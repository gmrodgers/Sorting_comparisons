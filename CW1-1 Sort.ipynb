{
 "cells": [
  {
   "cell_type": "markdown",
   "metadata": {},
   "source": [
    "# Algorithms 202: Coursework 1 Task 1: Sorting"
   ]
  },
  {
   "cell_type": "raw",
   "metadata": {},
   "source": [
    "Group-ID: 33"
   ]
  },
  {
   "cell_type": "markdown",
   "metadata": {},
   "source": [
    "Group members: Glen Rodgers, Summer Jones, Leanne Lyons "
   ]
  },
  {
   "cell_type": "markdown",
   "metadata": {},
   "source": [
    "# Objectives"
   ]
  },
  {
   "cell_type": "markdown",
   "metadata": {},
   "source": [
    "The aim of this coursework is to enhance your algorithmic skills by mastering the divide and conquer and dynamic programming strategies. You are asked to show that you can:\n",
    "\n",
    "- implement divide and conquer solutions for given problems\n",
    "- compare naive and advanced implementations of algorithms solving the same problem\n",
    "\n",
    "This notebook *is* the coursework. It contains cells with function definitions that you will need to complete. You will submit this notebook as your coursework.\n",
    "\n",
    "The comparisons of different algorithms involve textual descriptions and graphical plots. For graphing you will be using [matplotlib](http://matplotlib.org/index.html) to generate plots. [This tutorial](http://matplotlib.org/index.html) will be useful to go through to get you up to speed. For the textual descriptions you may wish to use [LaTeX](http://en.wikipedia.org/wiki/LaTeX) inline like $\\mathcal{O}(n\\log{}n)$. Double click this cell to reveal the required markup - and [see here](http://texblog.org/2014/06/24/big-o-and-related-notations-in-latex/) for useful guidance on producing common symbols used in asymptotic run time analysis."
   ]
  },
  {
   "cell_type": "markdown",
   "metadata": {},
   "source": [
    "# Preliminaries: helper functions"
   ]
  },
  {
   "cell_type": "markdown",
   "metadata": {},
   "source": [
    "Here we define a collection of functions that will be useful for the rest of the coursework. You'll need to run this cell to get started."
   ]
  },
  {
   "cell_type": "code",
   "execution_count": 10,
   "metadata": {
    "collapsed": false
   },
   "outputs": [],
   "source": [
    "# so our plots get drawn in the notebook\n",
    "%matplotlib inline\n",
    "from matplotlib import pyplot as plt\n",
    "from random import randint\n",
    "from time import clock\n",
    "\n",
    "# a timer - runs the provided function and reports the\n",
    "# run time in ms\n",
    "def time_f(f):\n",
    "    before = clock()\n",
    "    f()\n",
    "    after = clock()\n",
    "    return after - before\n",
    "\n",
    "# remember - lambdas are just one line functions\n",
    "\n",
    "# make us a random list length (between 1 - 2000)\n",
    "# rand_len = lambda max_len=2e3: randint(1, max_len)\n",
    "\n",
    "\n",
    "# choose a random value for a list element (between 0 1e6)\n",
    "rand_int = lambda: randint(0, 1e6)\n",
    "\n",
    "# generate a random list of random length -\n",
    "# here we use a list comprehension, a very tidy\n",
    "# way of transforming lists of data\n",
    "rand_list = lambda max_len=2e3: [rand_int() \n",
    "                                 for i in range(rand_len(max_len=max_len))]"
   ]
  },
  {
   "cell_type": "markdown",
   "metadata": {},
   "source": [
    "## Task 1: Sorting"
   ]
  },
  {
   "cell_type": "markdown",
   "metadata": {},
   "source": [
    "In this task you are asked to implement `insertion_sort` and `merge_sort`. You need to perform an experimental analysis of their running time. Based on your analysis, you should implement a third sorting algorithm, `hybrid_sort`, which is similar to `merge_sort` but uses `insertion_sort` for the base case. The problem size for which the base case is invoked has to be inferred from the running time analysis."
   ]
  },
  {
   "cell_type": "markdown",
   "metadata": {},
   "source": [
    "### 1a. Implement `insertion_sort`"
   ]
  },
  {
   "cell_type": "markdown",
   "metadata": {},
   "source": [
    "Complete the below definition for `insertion_sort`. Do not change the name of the function or it's arguments. \n",
    "\n",
    "\n",
    "Hints:\n",
    "\n",
    "- Your sort should be in-place (i.e. it changes the input list for the caller) but you should also return the list so the function can be called as indicated below."
   ]
  },
  {
   "cell_type": "code",
   "execution_count": 11,
   "metadata": {
    "collapsed": false
   },
   "outputs": [],
   "source": [
    "def insertion_sort(a):\n",
    "    for i in range(1, len(a)):\n",
    "        curr = a[i]\n",
    "        pos = i\n",
    "        while pos > 0 and a[pos-1] > curr:\n",
    "            a[pos] = a[pos-1]\n",
    "            pos -= 1\n",
    "        a[pos] = curr\n",
    "    return a"
   ]
  },
  {
   "cell_type": "markdown",
   "metadata": {},
   "source": [
    "Use this test to confirm your implementation is correct."
   ]
  },
  {
   "cell_type": "code",
   "execution_count": 12,
   "metadata": {
    "collapsed": false
   },
   "outputs": [
    {
     "name": "stdout",
     "output_type": "stream",
     "text": [
      "True\n"
     ]
    }
   ],
   "source": [
    "x = [2, 4, 1, 3, 5]\n",
    "print(insertion_sort(x) == [1, 2, 3, 4, 5])"
   ]
  },
  {
   "cell_type": "markdown",
   "metadata": {},
   "source": [
    "### 1b. Implement `merge_sort`"
   ]
  },
  {
   "cell_type": "markdown",
   "metadata": {},
   "source": [
    "Complete the below definition for `merge_sort`. Do not change the name of the function or it's arguments.\n",
    "\n",
    "Hints:\n",
    "\n",
    "- Your implementation should leave the input list unmodified for the caller\n",
    "- You are free to define other functions in this cell"
   ]
  },
  {
   "cell_type": "code",
   "execution_count": 13,
   "metadata": {
    "collapsed": false
   },
   "outputs": [],
   "source": [
    "def merge(arr, start, middle, end):\n",
    "    left = arr[start : middle]\n",
    "    right = arr[middle : end]\n",
    "    i, j = 0, 0\n",
    "    #replaced the use of sentinels\n",
    "    for k in range(start, end):\n",
    "        if j >= len(right) or (i < len(left) and left[i] < right[j]):\n",
    "            arr[k] = left[i]\n",
    "            i += 1\n",
    "        else:\n",
    "            arr[k] = right[j]\n",
    "            j += 1"
   ]
  },
  {
   "cell_type": "code",
   "execution_count": 14,
   "metadata": {
    "collapsed": false
   },
   "outputs": [],
   "source": [
    "def merge_divide(arr, start, end):\n",
    "    if start < end-1:\n",
    "        middle = int((start + end) / 2)\n",
    "        merge_divide(arr, start, middle)\n",
    "        merge_divide(arr, middle, end)\n",
    "        merge(arr, start, middle, end)"
   ]
  },
  {
   "cell_type": "code",
   "execution_count": 15,
   "metadata": {
    "collapsed": false
   },
   "outputs": [],
   "source": [
    "def merge_sort(a):\n",
    "    sorted_list = list(a)\n",
    "    merge_divide(sorted_list, 0, len(a))\n",
    "    return sorted_list"
   ]
  },
  {
   "cell_type": "markdown",
   "metadata": {},
   "source": [
    "Use this test to confirm your implementation is correct."
   ]
  },
  {
   "cell_type": "code",
   "execution_count": 16,
   "metadata": {
    "collapsed": false
   },
   "outputs": [
    {
     "name": "stdout",
     "output_type": "stream",
     "text": [
      "True\n"
     ]
    }
   ],
   "source": [
    "x = [2, 4, 1, 3, 5, 6]\n",
    "print(merge_sort(x) == [1, 2, 3, 4, 5, 6])"
   ]
  },
  {
   "cell_type": "markdown",
   "metadata": {},
   "source": [
    "### 1c. Analyse the running time performance of `insertion_sort` and `merge_sort`"
   ]
  },
  {
   "cell_type": "markdown",
   "metadata": {},
   "source": [
    "Draw a graph showing the run time performance of your `insertion_sort` and `merge_sort` for different lengths of random integers. Analyse the performance at the large scale ($n \\approx 10^3$) and small scale ($n \\approx 10$). To remove noisy measurements, you might want to repeat the analysis several times and estimate average performance for different $n$."
   ]
  },
  {
   "cell_type": "code",
   "execution_count": 17,
   "metadata": {
    "collapsed": false
   },
   "outputs": [],
   "source": [
    "# rand_len = lambda max_len=2e3: randint(1, 50) # n ≈ 10\n",
    "rand_len = lambda max_len=2e3: randint(1, 5000) # n ≈ 10^3\n",
    "random_lists = [rand_list() for i in range(100)] "
   ]
  },
  {
   "cell_type": "code",
   "execution_count": 18,
   "metadata": {
    "collapsed": false
   },
   "outputs": [],
   "source": [
    "#insertion sort data\n",
    "num_insertion = []\n",
    "time_insertion = []\n",
    "for r_list in random_lists:\n",
    "    time_insertion.append(time_f(lambda: insertion_sort(r_list)))\n",
    "    num_insertion.append(len(r_list))"
   ]
  },
  {
   "cell_type": "code",
   "execution_count": 19,
   "metadata": {
    "collapsed": false
   },
   "outputs": [],
   "source": [
    "#merge sort data\n",
    "num_merge = []\n",
    "time_merge = []\n",
    "for r_list in random_lists:\n",
    "    time_merge.append(time_f(lambda: merge_sort(r_list)))\n",
    "    num_merge.append(len(r_list))"
   ]
  },
  {
   "cell_type": "code",
   "execution_count": 20,
   "metadata": {
    "collapsed": false
   },
   "outputs": [
    {
     "data": {
      "text/plain": [
       "(0, 2.0)"
      ]
     },
     "execution_count": 20,
     "metadata": {},
     "output_type": "execute_result"
    },
    {
     "data": {
      "image/png": "[encoded data removed]",
      "text/plain": [
       "<matplotlib.figure.Figure at 0x7f7834b12048>"
      ]
     },
     "metadata": {},
     "output_type": "display_data"
    }
   ],
   "source": [
    "plt.scatter(num_merge, time_merge, c='blue')\n",
    "plt.scatter(num_insertion, time_insertion, c='red')\n",
    "plt.xlabel('n')\n",
    "plt.ylabel('time (/s)')\n",
    "plt.legend(['merge-sort', 'insertion-sort'])\n",
    "plt.xlim(0)\n",
    "plt.ylim(0)"
   ]
  },
  {
   "cell_type": "markdown",
   "metadata": {},
   "source": [
    "**Now discuss your findings in a few lines in the below cell:**"
   ]
  },
  {
   "cell_type": "raw",
   "metadata": {},
   "source": [
    "At values of n≈10 (We choose 50), insertion sort and merge sort have similar runtimes, although insertion sort is slightly faster up until around n = 70, where it starts to slowly curve upwards whilst merge sort stays relatively linear. At higher values of n≈1000 (we choose 5000) the difference in runtime was quite stark as the insertion sort curved upwards quite dramatically while the merge sort only curved upwards gradually. We expected this as this reflects their worst case runtimes of O(n^2) and O(nlogn) respectively.  \n",
    "\n",
    "Due to insertion sorts better performance for numbers less than 70, it is reasonable to suspect that using insertion sort for the base case of merge sort would create a more efficent algorithm than both, as shown below."
   ]
  },
  {
   "cell_type": "markdown",
   "metadata": {},
   "source": [
    "### 1d. Implement `hybrid_sort()`"
   ]
  },
  {
   "cell_type": "markdown",
   "metadata": {},
   "source": [
    "Implement `hybrid_sort()`, a `merge_sort()` variant which uses `insertion_sort()` for the base case. The problem size for which the base case is invoked has to be inferred from your above running time analysis."
   ]
  },
  {
   "cell_type": "code",
   "execution_count": 39,
   "metadata": {
    "collapsed": false
   },
   "outputs": [],
   "source": [
    "def hybrid_conquer(arr, start, end):\n",
    "    threshold = 700\n",
    "    if end - start - 1 >= threshold:\n",
    "        middle = int((start + end) / 2)\n",
    "        hybrid_conquer(arr, start, middle)\n",
    "        hybrid_conquer(arr, middle, end)\n",
    "        merge(arr, start, middle, end)\n",
    "    else:\n",
    "        insertion_sort(arr)"
   ]
  },
  {
   "cell_type": "code",
   "execution_count": 40,
   "metadata": {
    "collapsed": false
   },
   "outputs": [],
   "source": [
    "def hybrid_sort(a):\n",
    "    sorted_list = list(a)\n",
    "    hybrid_conquer(sorted_list, 0, len(a))\n",
    "    return sorted_list"
   ]
  },
  {
   "cell_type": "markdown",
   "metadata": {},
   "source": [
    "Use this test to confirm your implementation is correct."
   ]
  },
  {
   "cell_type": "code",
   "execution_count": 41,
   "metadata": {
    "collapsed": false
   },
   "outputs": [
    {
     "name": "stdout",
     "output_type": "stream",
     "text": [
      "True\n"
     ]
    }
   ],
   "source": [
    "x = [2, 4, 1, 3]\n",
    "print(hybrid_sort(x) == [1, 2, 3, 4])"
   ]
  },
  {
   "cell_type": "markdown",
   "metadata": {},
   "source": [
    "### 1e. Analyse all three sorting implementations together"
   ]
  },
  {
   "cell_type": "markdown",
   "metadata": {},
   "source": [
    "Draw a graph showing the running time performance of your `insertion_sort()`, `merge_sort()` and `hybrid_sort()` for different lengths of random integers."
   ]
  },
  {
   "cell_type": "code",
   "execution_count": 42,
   "metadata": {
    "collapsed": false
   },
   "outputs": [],
   "source": [
    "#hybrid sort data\n",
    "num_hybrid = []\n",
    "time_hybrid = []\n",
    "for r_list in random_lists:\n",
    "    time_hybrid.append(time_f(lambda: hybrid_sort(r_list)))\n",
    "    num_hybrid.append(len(r_list))"
   ]
  },
  {
   "cell_type": "code",
   "execution_count": 43,
   "metadata": {
    "collapsed": false
   },
   "outputs": [
    {
     "data": {
      "text/plain": [
       "(0, 2.0)"
      ]
     },
     "execution_count": 43,
     "metadata": {},
     "output_type": "execute_result"
    },
    {
     "data": {
      "image/png": "[encoded data removed]",
      "text/plain": [
       "<matplotlib.figure.Figure at 0x7f78320a6080>"
      ]
     },
     "metadata": {},
     "output_type": "display_data"
    }
   ],
   "source": [
    "plt.scatter(num_insertion, time_insertion, c='red')\n",
    "plt.scatter(num_hybrid, time_hybrid, c='green')\n",
    "plt.xlabel('n')\n",
    "plt.ylabel('time (/s)')\n",
    "plt.legend(['insertion-sort', 'hybrid-sort'])\n",
    "plt.xlim(0)\n",
    "plt.ylim(0)"
   ]
  },
  {
   "cell_type": "code",
   "execution_count": 44,
   "metadata": {
    "collapsed": false,
    "scrolled": true
   },
   "outputs": [
    {
     "data": {
      "text/plain": [
       "(0, 0.039999999999999994)"
      ]
     },
     "execution_count": 44,
     "metadata": {},
     "output_type": "execute_result"
    },
    {
     "data": {
      "image/png": "[encoded data removed]",
      "text/plain": [
       "<matplotlib.figure.Figure at 0x7f7832165e10>"
      ]
     },
     "metadata": {},
     "output_type": "display_data"
    }
   ],
   "source": [
    "plt.scatter(num_merge, time_merge, c='blue')\n",
    "plt.scatter(num_hybrid, time_hybrid, c='green')\n",
    "plt.xlabel('n')\n",
    "plt.ylabel('time (/s)')\n",
    "plt.legend(['merge-sort', 'hybrid-sort'])\n",
    "plt.xlim(0)\n",
    "plt.ylim(0)"
   ]
  },
  {
   "cell_type": "markdown",
   "metadata": {},
   "source": [
    "**Now discuss your findings in a few lines in the below cell:**"
   ]
  },
  {
   "cell_type": "markdown",
   "metadata": {},
   "source": [
    "Our implementation of hybrid sort performs extremely well in comparision to the merge sort and especially towards the insertion sort.  At list length less than or equal to 70, insertion sort and our hybrid sort perform similarly as they both use insertion sort due to our threshold size and are both slightly faster than merge sort at almost all of these list sizes as well.  At greater sizes, the merge sort again had a faster runtime than insertion sort but our hybrid sort sort maintained almost linear running time even up to 5000 along side merge sort.  \n",
    "\n",
    "Due to our hybrid's implementation, it has a faster running time than merge sort and insertion sort at all values up to list lengths of 5000.  This allows us to hypothesis that a worst case upper bound of our hybrid sort is O(nlogn) and it could be less.  \n",
    "\n",
    "We at first decided to choose 70 as our threshold for the base case of our hybrid sort but then realised that higher numbers resulted in a smaller runtime.  We deduced that this was due to solving more subproblems of mergesort with insertion sort meant that less divisions were needed in the merge sort.  We then settled for list lengths of 700 being the best option for our base case as it meant we still had a faster runtime ast smaller values of n and drastically smaller values for large values of n."
   ]
  }
 ],
 "metadata": {
  "kernelspec": {
   "display_name": "Python 3",
   "language": "python",
   "name": "python3"
  },
  "language_info": {
   "codemirror_mode": {
    "name": "ipython",
    "version": 3
   },
   "file_extension": ".py",
   "mimetype": "text/x-python",
   "name": "python",
   "nbconvert_exporter": "python",
   "pygments_lexer": "ipython3",
   "version": "3.5.1"
  }
 },
 "nbformat": 4,
 "nbformat_minor": 0
}
