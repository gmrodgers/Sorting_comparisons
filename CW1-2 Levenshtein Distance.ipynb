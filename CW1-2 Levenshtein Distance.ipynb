{
 "cells": [
  {
   "cell_type": "markdown",
   "metadata": {},
   "source": [
    "# Algorithms 202: Coursework 1 Task 2: Levenshtein Distance"
   ]
  },
  {
   "cell_type": "markdown",
   "metadata": {},
   "source": [
    "Group-ID: 33"
   ]
  },
  {
   "cell_type": "markdown",
   "metadata": {},
   "source": [
    "Group members: Leanne Lyons, Glen Rodgers, Summer Jones"
   ]
  },
  {
   "cell_type": "markdown",
   "metadata": {},
   "source": [
    "# Objectives"
   ]
  },
  {
   "cell_type": "markdown",
   "metadata": {},
   "source": [
    "The aim of this coursework is to enhance your algorithmic skills by mastering the divide and conquer and dynamic programming strategies. You are asked to show that you can:\n",
    "\n",
    "- implement a dynamic programming problem\n",
    "\n",
    "This notebook *is* the coursework. It contains cells with function definitions that you will need to complete. You will submit this notebook as your coursework.\n",
    "\n",
    "The comparisons of different algorithms involve textual descriptions and graphical plots. For graphing you will be using [matplotlib](http://matplotlib.org/index.html) to generate plots. [This tutorial](http://matplotlib.org/index.html) will be useful to go through to get you up to speed. For the textual descriptions you may wish to use [LaTeX](http://en.wikipedia.org/wiki/LaTeX) in-line like $\\mathcal{O}(n\\log{}n)$. Double click this cell to reveal the required markup - and [see here](http://texblog.org/2014/06/24/big-o-and-related-notations-in-latex/) for useful guidance on producing common symbols used in asymptotic run time analysis."
   ]
  },
  {
   "cell_type": "markdown",
   "metadata": {},
   "source": [
    "# Preliminaries: helper functions"
   ]
  },
  {
   "cell_type": "markdown",
   "metadata": {},
   "source": [
    "Here we define a collection of functions that will be useful for the rest of the coursework. You'll need to run this cell to get started."
   ]
  },
  {
   "cell_type": "code",
   "execution_count": 23,
   "metadata": {
    "collapsed": false
   },
   "outputs": [
    {
     "name": "stdout",
     "output_type": "stream",
     "text": [
      "loaded set of words into 'wordlist' variable\n"
     ]
    }
   ],
   "source": [
    "# so our plots get drawn in the notebook\n",
    "%matplotlib inline\n",
    "from matplotlib import pyplot as plt\n",
    "import numpy as np\n",
    "from pathlib import Path\n",
    "from sys import maxsize\n",
    "from time import clock\n",
    "from urllib.request import urlretrieve\n",
    "\n",
    "# a timer - runs the provided function and reports the\n",
    "# run time in ms\n",
    "def time_f(f):\n",
    "    before = clock()\n",
    "    f()\n",
    "    after = clock()\n",
    "    return after - before\n",
    "\n",
    "# we can get a word list from here - we download it once\n",
    "# to 'wordlist.txt' and then reuse this file.\n",
    "url = 'http://www.doc.ic.ac.uk/~bglocker/teaching/wordlist.txt'\n",
    "if not Path('wordlist.txt').exists():\n",
    "    print(\"downloading word list...\")\n",
    "    urlretrieve(url, 'wordlist.txt')\n",
    "    print('acquired word list.')\n",
    "    \n",
    "with open('wordlist.txt') as f:\n",
    "    # here we use a *set* comprehension - just\n",
    "    # like we've done with lists in the past but\n",
    "    # the result is a set so each element is\n",
    "    # guaranteed to be unique.\n",
    "    # https://docs.python.org/3/tutorial/datastructures.html#sets\n",
    "    # note that you can loop over a set just like you would a list\n",
    "    wordlist = {l.strip() for l in f.readlines()}\n",
    "    print(\"loaded set of words into 'wordlist' variable\")"
   ]
  },
  {
   "cell_type": "markdown",
   "metadata": {},
   "source": [
    "## Task 2: Levenshtein Distance"
   ]
  },
  {
   "cell_type": "markdown",
   "metadata": {},
   "source": [
    "### 2a. Implement `levenshtein_distance`"
   ]
  },
  {
   "cell_type": "markdown",
   "metadata": {},
   "source": [
    "Complete the below definition for `levenshtein_distance`. Do not change the name of the function or it's arguments. \n",
    "\n",
    "\n",
    "Hints:\n",
    "\n",
    "- You are given access to numpy (`np`). Numpy is the crown jewel of the scientific Python community - it provides a multidimensional array (`np.array()`) which can be very convenient to solve problems involving matrices."
   ]
  },
  {
   "cell_type": "code",
   "execution_count": 128,
   "metadata": {
    "collapsed": false
   },
   "outputs": [],
   "source": [
    "def levenshtein_distance(x, y):\n",
    "    m = len(x) + 1\n",
    "    n = len(y) + 1\n",
    "    \n",
    "    d = np.zeros((m,n))\n",
    "    \n",
    "    for i in range(1,m):\n",
    "        d[i,0] = i\n",
    "        \n",
    "    for j in range(0,n):\n",
    "        d[0,j] = j\n",
    "    \n",
    "    for j in range (1, n):\n",
    "        for i in range (1, m):\n",
    "            c = 0\n",
    "            if x[i-1] != y[j-1]:\n",
    "                c = 1\n",
    "            d[i,j] = min (d[i-1,j]+1, \n",
    "                          d[i,j-1]+1, \n",
    "                          d[i-1,j-1]+c)\n",
    "    return d[m-1,n-1]\n",
    "    "
   ]
  },
  {
   "cell_type": "markdown",
   "metadata": {},
   "source": [
    "### 2b. Find the minimum levenshtein distance"
   ]
  },
  {
   "cell_type": "markdown",
   "metadata": {},
   "source": [
    "Use this test to confirm your implementation is correct."
   ]
  },
  {
   "cell_type": "code",
   "execution_count": 129,
   "metadata": {
    "collapsed": false
   },
   "outputs": [
    {
     "name": "stdout",
     "output_type": "stream",
     "text": [
      "True\n",
      "True\n",
      "True\n",
      "True\n"
     ]
    }
   ],
   "source": [
    "print(levenshtein_distance('sunny', 'snowy') == 3)\n",
    "print(levenshtein_distance('algorithm', 'altruistic') == 6)\n",
    "print(levenshtein_distance('imperial', 'empirical') == 3)\n",
    "print(levenshtein_distance('weird', 'wired') == 2)"
   ]
  },
  {
   "cell_type": "markdown",
   "metadata": {},
   "source": [
    "Use your `levenshtein_distance` function to find the `closest_match` between a `candidate` word and an iterable of `words`. Note that if multiple words from `words` share the minimal edit distance to the `candidate`, you should return the word which would come first in a dictionary. \n",
    "\n",
    "As a concrete example, `zark` has an edit distance of 1 with both `ark` and `bark`, but you would return `ark` as it comes lexicographically before `bark`.\n",
    "\n",
    "Your function should return a tuple of two values - first the closest word match, and secondly the edit distance between this word and the candidate.\n",
    "\n",
    "```python\n",
    "closest, distance = closest_match('zark', ['ark', 'bark', ...])\n",
    "assert closest == 'ark'\n",
    "assert distance == 1\n",
    "```"
   ]
  },
  {
   "cell_type": "code",
   "execution_count": 142,
   "metadata": {
    "collapsed": true
   },
   "outputs": [],
   "source": [
    "def closest_match(candidate, words):\n",
    "    closest = \"\"\n",
    "    distance = 100\n",
    "    for w in words:\n",
    "        tmp = levenshtein_distance(candidate, w)\n",
    "        if (tmp < distance):\n",
    "            distance = tmp\n",
    "            closest = w\n",
    "        if (tmp == distance):\n",
    "            if w < closest:\n",
    "                closest = w\n",
    "            \n",
    "    return (closest, distance)\n",
    "            \n",
    "        \n",
    "    "
   ]
  },
  {
   "cell_type": "markdown",
   "metadata": {},
   "source": [
    "Run the below cell to test your implementation"
   ]
  },
  {
   "cell_type": "code",
   "execution_count": null,
   "metadata": {
    "collapsed": false
   },
   "outputs": [],
   "source": [
    "# A one liner that queries closest_match and then prints the result\n",
    "print_closest = lambda w, wl: print('{}: {} ({})'.format(w, *closest_match(w, wl)))\n",
    "\n",
    "print_closest('zilophone', wordlist)\n",
    "print_closest('inconsidrable', wordlist)\n",
    "print_closest('bisamfiguatd', wordlist)"
   ]
  },
  {
   "cell_type": "markdown",
   "metadata": {},
   "source": [
    "**Discuss in a few lines the running time of `closest_match`. Can you propose any ideas for making this faster? (Only discuss those in words, no need to do any implementations, unless you want to.)**"
   ]
  },
  {
   "cell_type": "markdown",
   "metadata": {},
   "source": [
    "*Replace with your discussion...*"
   ]
  }
 ],
 "metadata": {
  "kernelspec": {
   "display_name": "Python 3",
   "language": "python",
   "name": "python3"
  },
  "language_info": {
   "codemirror_mode": {
    "name": "ipython",
    "version": 3
   },
   "file_extension": ".py",
   "mimetype": "text/x-python",
   "name": "python",
   "nbconvert_exporter": "python",
   "pygments_lexer": "ipython3",
   "version": "3.5.1"
  }
 },
 "nbformat": 4,
 "nbformat_minor": 0
}
